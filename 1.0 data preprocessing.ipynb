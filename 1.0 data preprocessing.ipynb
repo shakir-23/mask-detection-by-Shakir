{
 "cells": [
  {
   "cell_type": "code",
   "execution_count": 1,
   "source": [
    "import cv2,os\r\n",
    "\r\n",
    "data_path='dataset'\r\n",
    "categories=os.listdir(data_path)\r\n",
    "labels=[i for i in range(len(categories))]\r\n",
    "\r\n",
    "label_dict=dict(zip(categories,labels))\r\n",
    "\r\n",
    "print(label_dict)\r\n",
    "print(categories)\r\n",
    "print(labels)"
   ],
   "outputs": [
    {
     "output_type": "stream",
     "name": "stdout",
     "text": [
      "{'with mask': 0, 'without mask': 1}\n",
      "['with mask', 'without mask']\n",
      "[0, 1]\n"
     ]
    }
   ],
   "metadata": {}
  },
  {
   "cell_type": "code",
   "execution_count": 2,
   "source": [
    "img_size=100\r\n",
    "data=[]\r\n",
    "target=[]\r\n",
    "\r\n",
    "\r\n",
    "for category in categories:\r\n",
    "    folder_path=os.path.join(data_path,category)\r\n",
    "    img_names=os.listdir(folder_path)\r\n",
    "        \r\n",
    "    for img_name in img_names:\r\n",
    "        img_path=os.path.join(folder_path,img_name)\r\n",
    "        img=cv2.imread(img_path)\r\n",
    "\r\n",
    "        try:\r\n",
    "            gray=cv2.cvtColor(img,cv2.COLOR_BGR2GRAY)           \r\n",
    "            #Coverting the image into gray scale\r\n",
    "            resized=cv2.resize(gray,(img_size,img_size))\r\n",
    "            #resizing the gray scale into 100x100, since we need a fixed common size for all the images in the dataset\r\n",
    "            data.append(resized)\r\n",
    "            target.append(label_dict[category])\r\n",
    "            #appending the image and the label(categorized) into the list (dataset)\r\n",
    "\r\n",
    "        except Exception as e:\r\n",
    "            print('Exception:',e)\r\n",
    "            #if any exception rasied, the exception will be printed here. And pass to the next image"
   ],
   "outputs": [],
   "metadata": {}
  },
  {
   "cell_type": "code",
   "execution_count": 3,
   "source": [
    "import numpy as np\r\n",
    "\r\n",
    "data=np.array(data)/255.0\r\n",
    "data=np.reshape(data,(data.shape[0],img_size,img_size,1))\r\n",
    "target=np.array(target)\r\n",
    "\r\n",
    "from keras.utils import np_utils\r\n",
    "\r\n",
    "new_target=np_utils.to_categorical(target)"
   ],
   "outputs": [],
   "metadata": {}
  },
  {
   "cell_type": "code",
   "execution_count": 4,
   "source": [
    "np.save('data',data)\r\n",
    "np.save('target',new_target)"
   ],
   "outputs": [],
   "metadata": {}
  }
 ],
 "metadata": {
  "kernelspec": {
   "name": "python3",
   "display_name": "Python 3.9.6 64-bit"
  },
  "language_info": {
   "codemirror_mode": {
    "name": "ipython",
    "version": 3
   },
   "file_extension": ".py",
   "mimetype": "text/x-python",
   "name": "python",
   "nbconvert_exporter": "python",
   "pygments_lexer": "ipython3",
   "version": "3.9.6"
  },
  "interpreter": {
   "hash": "a42817ee0c3b2899070cfca0c72ab63e3cce7518051b18a941f586dec79c44d1"
  }
 },
 "nbformat": 4,
 "nbformat_minor": 2
}