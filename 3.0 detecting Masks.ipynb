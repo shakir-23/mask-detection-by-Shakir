{
 "cells": [
  {
   "cell_type": "code",
   "execution_count": 1,
   "source": [
    "from keras.models import load_model\r\n",
    "import cv2\r\n",
    "import numpy as np"
   ],
   "outputs": [],
   "metadata": {}
  },
  {
   "cell_type": "code",
   "execution_count": 2,
   "source": [
    "model = load_model('model-017.model')\r\n",
    "\r\n",
    "face_clsfr=cv2.CascadeClassifier('haarcascade_frontalface_default.xml')\r\n",
    "\r\n",
    "source=cv2.VideoCapture(0)\r\n",
    "\r\n",
    "labels_dict={0:'MASK',1:'NO MASK'}\r\n",
    "color_dict={0:(0,255,0),1:(0,0,255)}"
   ],
   "outputs": [],
   "metadata": {}
  },
  {
   "cell_type": "code",
   "execution_count": 3,
   "source": [
    "while(True):\r\n",
    "\r\n",
    "    ret,img=source.read()\r\n",
    "    gray=cv2.cvtColor(img,cv2.COLOR_BGR2GRAY)\r\n",
    "    faces=face_clsfr.detectMultiScale(gray,1.3,5)  \r\n",
    "\r\n",
    "    for x,y,w,h in faces:\r\n",
    "    \r\n",
    "        face_img=gray[y:y+w,x:x+w]\r\n",
    "        resized=cv2.resize(face_img,(100,100))\r\n",
    "        normalized=resized/255.0\r\n",
    "        reshaped=np.reshape(normalized,(1,100,100,1))\r\n",
    "        result=model.predict(reshaped)\r\n",
    "\r\n",
    "        label=np.argmax(result,axis=1)[0]\r\n",
    "      \r\n",
    "        cv2.rectangle(img,(x,y),(x+w,y+h),color_dict[label],2)\r\n",
    "        cv2.rectangle(img,(x,y-40),(x+w,y),color_dict[label],-1)\r\n",
    "        cv2.putText(img, labels_dict[label], (x, y-10),cv2.FONT_HERSHEY_SIMPLEX,0.8,(255,255,255),2)\r\n",
    "        \r\n",
    "        \r\n",
    "    cv2.imshow('LIVE',img)\r\n",
    "    key=cv2.waitKey(1)\r\n",
    "    \r\n",
    "    if(key==27):\r\n",
    "        break\r\n",
    "        \r\n",
    "cv2.destroyAllWindows()\r\n",
    "source.release()"
   ],
   "outputs": [],
   "metadata": {}
  }
 ],
 "metadata": {
  "kernelspec": {
   "name": "python3",
   "display_name": "Python 3.9.6 64-bit"
  },
  "language_info": {
   "codemirror_mode": {
    "name": "ipython",
    "version": 3
   },
   "file_extension": ".py",
   "mimetype": "text/x-python",
   "name": "python",
   "nbconvert_exporter": "python",
   "pygments_lexer": "ipython3",
   "version": "3.9.6"
  },
  "interpreter": {
   "hash": "a42817ee0c3b2899070cfca0c72ab63e3cce7518051b18a941f586dec79c44d1"
  }
 },
 "nbformat": 4,
 "nbformat_minor": 2
}